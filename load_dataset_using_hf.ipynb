{
 "cells": [
  {
   "cell_type": "code",
   "execution_count": 1,
   "id": "95afa523-0409-472b-87ff-aea34a3ddace",
   "metadata": {},
   "outputs": [],
   "source": [
    "from datasets import load_dataset"
   ]
  },
  {
   "cell_type": "code",
   "execution_count": 2,
   "id": "300409d2-4a63-4334-bcfc-6807ac59e611",
   "metadata": {},
   "outputs": [
    {
     "name": "stderr",
     "output_type": "stream",
     "text": [
      "Using custom data configuration default\n",
      "Reusing dataset cas_cliniques (/Users/antoine/.cache/huggingface/datasets/cas_cliniques/default/1.0.0/2ee1992876b283c84dc9a03e33b770612e0ad84187919e1afd340e6e63e5bb41)\n"
     ]
    },
    {
     "data": {
      "application/vnd.jupyter.widget-view+json": {
       "model_id": "c9c2add0eb72467785541bb1bbd7143b",
       "version_major": 2,
       "version_minor": 0
      },
      "text/plain": [
       "  0%|          | 0/2 [00:00<?, ?it/s]"
      ]
     },
     "metadata": {},
     "output_type": "display_data"
    }
   ],
   "source": [
    "dt = load_dataset(\"./casCliniques/\")"
   ]
  },
  {
   "cell_type": "code",
   "execution_count": 3,
   "id": "f1c39916-6a42-4511-a369-58b5c25b39e5",
   "metadata": {},
   "outputs": [
    {
     "data": {
      "text/plain": [
       "{'id': 'ped_008_2',\n",
       " 'tokens': ['L’',\n",
       "  'examen',\n",
       "  'clinique',\n",
       "  'initial',\n",
       "  'trouve',\n",
       "  'un',\n",
       "  'état',\n",
       "  'général',\n",
       "  'altéré',\n",
       "  ',',\n",
       "  'une',\n",
       "  'fièvre',\n",
       "  'à',\n",
       "  '39,7',\n",
       "  '°',\n",
       "  'C',\n",
       "  'avec',\n",
       "  'sueurs',\n",
       "  '.'],\n",
       " 'ner_tags': [14,\n",
       "  14,\n",
       "  14,\n",
       "  14,\n",
       "  14,\n",
       "  14,\n",
       "  0,\n",
       "  1,\n",
       "  1,\n",
       "  14,\n",
       "  14,\n",
       "  0,\n",
       "  1,\n",
       "  1,\n",
       "  1,\n",
       "  1,\n",
       "  1,\n",
       "  1,\n",
       "  14]}"
      ]
     },
     "execution_count": 3,
     "metadata": {},
     "output_type": "execute_result"
    }
   ],
   "source": [
    "dt['train'][2]"
   ]
  },
  {
   "cell_type": "code",
   "execution_count": null,
   "id": "3285c59b-15d3-4c77-8b12-a726c400458f",
   "metadata": {},
   "outputs": [],
   "source": []
  }
 ],
 "metadata": {
  "kernelspec": {
   "display_name": "Python 3 (ipykernel)",
   "language": "python",
   "name": "python3"
  },
  "language_info": {
   "codemirror_mode": {
    "name": "ipython",
    "version": 3
   },
   "file_extension": ".py",
   "mimetype": "text/x-python",
   "name": "python",
   "nbconvert_exporter": "python",
   "pygments_lexer": "ipython3",
   "version": "3.7.11"
  }
 },
 "nbformat": 4,
 "nbformat_minor": 5
}
