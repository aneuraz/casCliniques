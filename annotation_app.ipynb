{
 "cells": [
  {
   "cell_type": "markdown",
   "id": "d9dc450a-c534-4cae-ab8f-3d912a456176",
   "metadata": {},
   "source": [
    "## Demo annotation app using metanno"
   ]
  },
  {
   "cell_type": "markdown",
   "id": "8803ca8c-b791-437a-8224-05f8f057f094",
   "metadata": {},
   "source": [
    "[https://github.com/percevalw/metanno]() pour plus d'informations"
   ]
  },
  {
   "cell_type": "code",
   "execution_count": 9,
   "id": "e8b0a48d-6020-4dd9-bfb7-45474f4d1e56",
   "metadata": {},
   "outputs": [
    {
     "name": "stdout",
     "output_type": "stream",
     "text": [
      "Requirement already satisfied: metanno in /Users/antoine/opt/miniconda3/envs/metanno/lib/python3.7/site-packages (0.0.7)\n",
      "Requirement already satisfied: ipykernel in /Users/antoine/opt/miniconda3/envs/metanno/lib/python3.7/site-packages (from metanno) (6.6.0)\n",
      "Requirement already satisfied: transcrypt==3.7.16 in /Users/antoine/opt/miniconda3/envs/metanno/lib/python3.7/site-packages (from metanno) (3.7.16)\n",
      "Requirement already satisfied: mypy in /Users/antoine/opt/miniconda3/envs/metanno/lib/python3.7/site-packages (from transcrypt==3.7.16->metanno) (0.910)\n",
      "Requirement already satisfied: argcomplete>=1.12.3 in /Users/antoine/opt/miniconda3/envs/metanno/lib/python3.7/site-packages (from ipykernel->metanno) (1.12.3)\n",
      "Requirement already satisfied: traitlets<6.0,>=5.1.0 in /Users/antoine/opt/miniconda3/envs/metanno/lib/python3.7/site-packages (from ipykernel->metanno) (5.1.1)\n",
      "Requirement already satisfied: matplotlib-inline<0.2.0,>=0.1.0 in /Users/antoine/opt/miniconda3/envs/metanno/lib/python3.7/site-packages (from ipykernel->metanno) (0.1.3)\n",
      "Requirement already satisfied: tornado<7.0,>=4.2 in /Users/antoine/opt/miniconda3/envs/metanno/lib/python3.7/site-packages (from ipykernel->metanno) (6.1)\n",
      "Requirement already satisfied: appnope in /Users/antoine/opt/miniconda3/envs/metanno/lib/python3.7/site-packages (from ipykernel->metanno) (0.1.2)\n",
      "Requirement already satisfied: jupyter-client<8.0 in /Users/antoine/opt/miniconda3/envs/metanno/lib/python3.7/site-packages (from ipykernel->metanno) (7.1.0)\n",
      "Requirement already satisfied: importlib-metadata<5 in /Users/antoine/opt/miniconda3/envs/metanno/lib/python3.7/site-packages (from ipykernel->metanno) (4.8.2)\n",
      "Requirement already satisfied: ipython>=7.23.1 in /Users/antoine/opt/miniconda3/envs/metanno/lib/python3.7/site-packages (from ipykernel->metanno) (7.30.1)\n",
      "Requirement already satisfied: debugpy<2.0,>=1.0.0 in /Users/antoine/opt/miniconda3/envs/metanno/lib/python3.7/site-packages (from ipykernel->metanno) (1.5.1)\n",
      "Requirement already satisfied: typing-extensions>=3.6.4 in /Users/antoine/opt/miniconda3/envs/metanno/lib/python3.7/site-packages (from importlib-metadata<5->ipykernel->metanno) (4.0.1)\n",
      "Requirement already satisfied: zipp>=0.5 in /Users/antoine/opt/miniconda3/envs/metanno/lib/python3.7/site-packages (from importlib-metadata<5->ipykernel->metanno) (3.6.0)\n",
      "Requirement already satisfied: decorator in /Users/antoine/opt/miniconda3/envs/metanno/lib/python3.7/site-packages (from ipython>=7.23.1->ipykernel->metanno) (5.1.0)\n",
      "Requirement already satisfied: pickleshare in /Users/antoine/opt/miniconda3/envs/metanno/lib/python3.7/site-packages (from ipython>=7.23.1->ipykernel->metanno) (0.7.5)\n",
      "Requirement already satisfied: pexpect>4.3 in /Users/antoine/opt/miniconda3/envs/metanno/lib/python3.7/site-packages (from ipython>=7.23.1->ipykernel->metanno) (4.8.0)\n",
      "Requirement already satisfied: prompt-toolkit!=3.0.0,!=3.0.1,<3.1.0,>=2.0.0 in /Users/antoine/opt/miniconda3/envs/metanno/lib/python3.7/site-packages (from ipython>=7.23.1->ipykernel->metanno) (3.0.23)\n",
      "Requirement already satisfied: pygments in /Users/antoine/opt/miniconda3/envs/metanno/lib/python3.7/site-packages (from ipython>=7.23.1->ipykernel->metanno) (2.10.0)\n",
      "Requirement already satisfied: backcall in /Users/antoine/opt/miniconda3/envs/metanno/lib/python3.7/site-packages (from ipython>=7.23.1->ipykernel->metanno) (0.2.0)\n",
      "Requirement already satisfied: jedi>=0.16 in /Users/antoine/opt/miniconda3/envs/metanno/lib/python3.7/site-packages (from ipython>=7.23.1->ipykernel->metanno) (0.18.1)\n",
      "Requirement already satisfied: setuptools>=18.5 in /Users/antoine/opt/miniconda3/envs/metanno/lib/python3.7/site-packages (from ipython>=7.23.1->ipykernel->metanno) (58.0.4)\n",
      "Requirement already satisfied: parso<0.9.0,>=0.8.0 in /Users/antoine/opt/miniconda3/envs/metanno/lib/python3.7/site-packages (from jedi>=0.16->ipython>=7.23.1->ipykernel->metanno) (0.8.3)\n",
      "Requirement already satisfied: entrypoints in /Users/antoine/opt/miniconda3/envs/metanno/lib/python3.7/site-packages (from jupyter-client<8.0->ipykernel->metanno) (0.3)\n",
      "Requirement already satisfied: pyzmq>=13 in /Users/antoine/opt/miniconda3/envs/metanno/lib/python3.7/site-packages (from jupyter-client<8.0->ipykernel->metanno) (22.3.0)\n",
      "Requirement already satisfied: python-dateutil>=2.1 in /Users/antoine/opt/miniconda3/envs/metanno/lib/python3.7/site-packages (from jupyter-client<8.0->ipykernel->metanno) (2.8.2)\n",
      "Requirement already satisfied: nest-asyncio>=1.5 in /Users/antoine/opt/miniconda3/envs/metanno/lib/python3.7/site-packages (from jupyter-client<8.0->ipykernel->metanno) (1.5.4)\n",
      "Requirement already satisfied: jupyter-core>=4.6.0 in /Users/antoine/opt/miniconda3/envs/metanno/lib/python3.7/site-packages (from jupyter-client<8.0->ipykernel->metanno) (4.9.1)\n",
      "Requirement already satisfied: ptyprocess>=0.5 in /Users/antoine/opt/miniconda3/envs/metanno/lib/python3.7/site-packages (from pexpect>4.3->ipython>=7.23.1->ipykernel->metanno) (0.7.0)\n",
      "Requirement already satisfied: wcwidth in /Users/antoine/opt/miniconda3/envs/metanno/lib/python3.7/site-packages (from prompt-toolkit!=3.0.0,!=3.0.1,<3.1.0,>=2.0.0->ipython>=7.23.1->ipykernel->metanno) (0.2.5)\n",
      "Requirement already satisfied: six>=1.5 in /Users/antoine/opt/miniconda3/envs/metanno/lib/python3.7/site-packages (from python-dateutil>=2.1->jupyter-client<8.0->ipykernel->metanno) (1.16.0)\n",
      "Requirement already satisfied: toml in /Users/antoine/opt/miniconda3/envs/metanno/lib/python3.7/site-packages (from mypy->transcrypt==3.7.16->metanno) (0.10.2)\n",
      "Requirement already satisfied: typed-ast<1.5.0,>=1.4.0 in /Users/antoine/opt/miniconda3/envs/metanno/lib/python3.7/site-packages (from mypy->transcrypt==3.7.16->metanno) (1.4.3)\n",
      "Requirement already satisfied: mypy-extensions<0.5.0,>=0.4.3 in /Users/antoine/opt/miniconda3/envs/metanno/lib/python3.7/site-packages (from mypy->transcrypt==3.7.16->metanno) (0.4.3)\n"
     ]
    }
   ],
   "source": [
    "!pip install metanno"
   ]
  },
  {
   "cell_type": "code",
   "execution_count": 1,
   "id": "3a915a9f-9326-4421-908a-deeed3bede08",
   "metadata": {},
   "outputs": [],
   "source": [
    "from bratapp import BRATApp"
   ]
  },
  {
   "cell_type": "code",
   "execution_count": 2,
   "id": "32477d7b-140d-4e51-8ccb-faa988925e9a",
   "metadata": {},
   "outputs": [],
   "source": [
    "import glob\n",
    "from pathlib import Path\n"
   ]
  },
  {
   "cell_type": "code",
   "execution_count": 3,
   "id": "cc7fc3eb-a2fc-4ac1-acfd-ee88168efe28",
   "metadata": {},
   "outputs": [],
   "source": [
    "txt_list = glob.glob('raw_text/*.txt')\n",
    "for file in txt_list: \n",
    "    file = file.replace(\".txt\",\".ann\")\n",
    "    path = Path(file)\n",
    "    if not path.is_file():\n",
    "        path.touch()\n",
    "    "
   ]
  },
  {
   "cell_type": "code",
   "execution_count": 4,
   "id": "dc0d79f8-7d20-4ac9-8763-88d95cc14366",
   "metadata": {},
   "outputs": [],
   "source": [
    "colors = [\n",
    "    \"rgb(255,200,206)\",\n",
    "    \"rgb(210,236,247)\",\n",
    "    \"rgb(211,242,206)\",\n",
    "    \"rgb(242,242,206)\",\n",
    "    \"rgb(231,210,247)\",\n",
    "    \"rgb(252,215,216)\",\n",
    "    \"rgb(251,243,219)\",\n",
    "    \"rgb(250,231,212)\",\n",
    "    \"rgb(250,212,229)\",\n",
    "]\n",
    "\n"
   ]
  },
  {
   "cell_type": "code",
   "execution_count": 11,
   "id": "d2e8f47c-f3df-49d2-899f-d31848548148",
   "metadata": {},
   "outputs": [],
   "source": [
    "app = BRATApp(\"raw_text\", \n",
    "             labels = {\"disease\":    \"rgb(255,200,206)\", \n",
    "                       \"medication\": \"rgb(210,236,247)\"})"
   ]
  },
  {
   "cell_type": "code",
   "execution_count": 6,
   "id": "a9acc57e-0dee-460e-982d-f119b789bd29",
   "metadata": {},
   "outputs": [],
   "source": [
    "app.change_doc('ped_008')"
   ]
  },
  {
   "cell_type": "code",
   "execution_count": 8,
   "id": "ff8b0e31-4b12-4f61-9abb-a5af58871765",
   "metadata": {},
   "outputs": [],
   "source": [
    "app.save_changes()"
   ]
  },
  {
   "cell_type": "code",
   "execution_count": 7,
   "id": "fa4b9ea1-96ce-46cf-994a-edcee7e95108",
   "metadata": {},
   "outputs": [
    {
     "data": {
      "application/vnd.jupyter.annotator+json": {
       "editor-id": "my-editor",
       "editor-type": "span-editor",
       "version_major": 0,
       "version_minor": 0
      },
      "text/plain": [
       "<metanno.views.SpanEditor object at 0x7f94787301d0>"
      ]
     },
     "execution_count": 7,
     "metadata": {},
     "output_type": "execute_result"
    }
   ],
   "source": [
    "app.span_editor(\"my-editor\")\n"
   ]
  },
  {
   "cell_type": "code",
   "execution_count": 43,
   "id": "6d6a8f70-d873-48c8-8ab1-2565a7f7312f",
   "metadata": {},
   "outputs": [
    {
     "data": {
      "application/vnd.jupyter.annotator+json": {
       "editor-id": "mentions-table",
       "editor-type": "table-editor",
       "version_major": 0,
       "version_minor": 0
      },
      "text/plain": [
       "<metanno.views.TableEditor object at 0x7faac8911110>"
      ]
     },
     "execution_count": 43,
     "metadata": {},
     "output_type": "execute_result"
    }
   ],
   "source": [
    "app.table_editor(name=\"mentions-table\")"
   ]
  },
  {
   "cell_type": "code",
   "execution_count": 44,
   "id": "241b9782-b908-49d7-b5dd-b056938ec929",
   "metadata": {},
   "outputs": [
    {
     "data": {
      "application/vnd.jupyter.annotator+json": {
       "editor-id": "docs-table",
       "editor-type": "table-editor",
       "version_major": 0,
       "version_minor": 0
      },
      "text/plain": [
       "<metanno.views.TableEditor object at 0x7faac890ba10>"
      ]
     },
     "execution_count": 44,
     "metadata": {},
     "output_type": "execute_result"
    }
   ],
   "source": [
    "app.table_editor(name=\"docs-table\")"
   ]
  },
  {
   "cell_type": "code",
   "execution_count": null,
   "id": "806f9968-8e1a-4c6d-b4e6-8ddc835fe387",
   "metadata": {},
   "outputs": [],
   "source": []
  }
 ],
 "metadata": {
  "kernelspec": {
   "display_name": "Python 3 (ipykernel)",
   "language": "python",
   "name": "python3"
  },
  "language_info": {
   "codemirror_mode": {
    "name": "ipython",
    "version": 3
   },
   "file_extension": ".py",
   "mimetype": "text/x-python",
   "name": "python",
   "nbconvert_exporter": "python",
   "pygments_lexer": "ipython3",
   "version": "3.7.11"
  }
 },
 "nbformat": 4,
 "nbformat_minor": 5
}
