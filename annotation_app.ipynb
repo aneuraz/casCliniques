{
 "cells": [
  {
   "cell_type": "markdown",
   "id": "d9dc450a-c534-4cae-ab8f-3d912a456176",
   "metadata": {},
   "source": [
    "## Demo annotation app using metanno"
   ]
  },
  {
   "cell_type": "markdown",
   "id": "8803ca8c-b791-437a-8224-05f8f057f094",
   "metadata": {},
   "source": [
    "[https://github.com/percevalw/metanno]() pour plus d'informations"
   ]
  },
  {
   "cell_type": "code",
   "execution_count": null,
   "id": "3a915a9f-9326-4421-908a-deeed3bede08",
   "metadata": {},
   "outputs": [],
   "source": [
    "from bratapp import BRATApp"
   ]
  },
  {
   "cell_type": "code",
   "execution_count": null,
   "id": "32477d7b-140d-4e51-8ccb-faa988925e9a",
   "metadata": {},
   "outputs": [],
   "source": [
    "import glob\n",
    "from pathlib import Path\n"
   ]
  },
  {
   "cell_type": "code",
   "execution_count": null,
   "id": "cc7fc3eb-a2fc-4ac1-acfd-ee88168efe28",
   "metadata": {},
   "outputs": [],
   "source": [
    "txt_list = glob.glob('raw_text/*.txt')\n",
    "for file in txt_list: \n",
    "    file = file.replace(\".txt\",\".ann\")\n",
    "    path = Path(file)\n",
    "    if not path.is_file():\n",
    "        path.touch()\n",
    "    "
   ]
  },
  {
   "cell_type": "code",
   "execution_count": null,
   "id": "dc0d79f8-7d20-4ac9-8763-88d95cc14366",
   "metadata": {},
   "outputs": [],
   "source": [
    "colors = [\n",
    "    \"rgb(255,200,206)\",\n",
    "    \"rgb(210,236,247)\",\n",
    "    \"rgb(211,242,206)\",\n",
    "    \"rgb(242,242,206)\",\n",
    "    \"rgb(231,210,247)\",\n",
    "    \"rgb(252,215,216)\",\n",
    "    \"rgb(251,243,219)\",\n",
    "    \"rgb(250,231,212)\",\n",
    "    \"rgb(250,212,229)\",\n",
    "]\n",
    "\n",
    "labels = {  \"procedure\": \"rgb(255,200,206)\",\n",
    "            \"labvalue\":\"rgb(210,236,247)\",\n",
    "            \"anatomy\":\"rgb(211,242,206)\",\n",
    "            \"drugs\":\"rgb(242,242,206)\",\n",
    "            \"profession\":\"rgb(252,215,216)\",\n",
    "            \"disorder\":\"rgb(251,243,219)\",\n",
    "            \"risk\" : \"rgb(250,212,229)\"  }\n",
    "\n"
   ]
  },
  {
   "cell_type": "code",
   "execution_count": null,
   "id": "d2e8f47c-f3df-49d2-899f-d31848548148",
   "metadata": {},
   "outputs": [],
   "source": [
    "app = BRATApp(\"raw_text\", \n",
    "              labels = labels)"
   ]
  },
  {
   "cell_type": "code",
   "execution_count": null,
   "id": "a9acc57e-0dee-460e-982d-f119b789bd29",
   "metadata": {},
   "outputs": [],
   "source": [
    "app.change_doc('ped_009')"
   ]
  },
  {
   "cell_type": "code",
   "execution_count": null,
   "id": "ff8b0e31-4b12-4f61-9abb-a5af58871765",
   "metadata": {},
   "outputs": [],
   "source": [
    "app.save_changes()"
   ]
  },
  {
   "cell_type": "code",
   "execution_count": null,
   "id": "fa4b9ea1-96ce-46cf-994a-edcee7e95108",
   "metadata": {},
   "outputs": [],
   "source": [
    "app.span_editor(\"my-editor\")\n"
   ]
  },
  {
   "cell_type": "code",
   "execution_count": null,
   "id": "6d6a8f70-d873-48c8-8ab1-2565a7f7312f",
   "metadata": {},
   "outputs": [],
   "source": [
    "app.table_editor(name=\"mentions-table\")"
   ]
  },
  {
   "cell_type": "code",
   "execution_count": null,
   "id": "241b9782-b908-49d7-b5dd-b056938ec929",
   "metadata": {},
   "outputs": [],
   "source": [
    "app.table_editor(name=\"docs-table\")"
   ]
  },
  {
   "cell_type": "code",
   "execution_count": null,
   "id": "806f9968-8e1a-4c6d-b4e6-8ddc835fe387",
   "metadata": {},
   "outputs": [],
   "source": [
    "app.state"
   ]
  },
  {
   "cell_type": "code",
   "execution_count": null,
   "id": "8fff2446-fa9c-487c-9dbf-a963b39b65c9",
   "metadata": {},
   "outputs": [],
   "source": []
  }
 ],
 "metadata": {
  "kernelspec": {
   "display_name": "Python 3 (ipykernel)",
   "language": "python",
   "name": "python3"
  },
  "language_info": {
   "codemirror_mode": {
    "name": "ipython",
    "version": 3
   },
   "file_extension": ".py",
   "mimetype": "text/x-python",
   "name": "python",
   "nbconvert_exporter": "python",
   "pygments_lexer": "ipython3",
   "version": "3.9.5"
  }
 },
 "nbformat": 4,
 "nbformat_minor": 5
}
