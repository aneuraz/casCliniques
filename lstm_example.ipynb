{
 "cells": [
  {
   "cell_type": "code",
   "execution_count": 2,
   "id": "f24dc2dd-225e-44ba-9075-fdd8583acd1e",
   "metadata": {},
   "outputs": [],
   "source": [
    "import json \n",
    "import tensorflow as tf\n",
    "import numpy as np\n",
    "from sklearn.metrics import classification_report"
   ]
  },
  {
   "cell_type": "code",
   "execution_count": 97,
   "id": "b96b7df5-4a85-46a0-a1c0-25455e57b67e",
   "metadata": {},
   "outputs": [],
   "source": [
    "with open('datasets/trainset.json','r', encoding = 'utf8') as f:\n",
    "     train = json.load(f)\n",
    "        \n",
    "with open('datasets/testset.json','r', encoding = 'utf8') as f:\n",
    "     test = json.load(f)"
   ]
  },
  {
   "cell_type": "code",
   "execution_count": 99,
   "id": "eae2c880-5751-4efd-87ce-0f693fe5a2f0",
   "metadata": {},
   "outputs": [
    {
     "name": "stdout",
     "output_type": "stream",
     "text": [
      "nombre de phrases dans X_train: 13250\n"
     ]
    },
    {
     "data": {
      "text/plain": [
       "['Histoire',\n",
       " 'clinique',\n",
       " 'L’',\n",
       " 'interrogatoire',\n",
       " 'est',\n",
       " 'rendu',\n",
       " 'difficile',\n",
       " 'à',\n",
       " 'la',\n",
       " 'fois',\n",
       " 'par',\n",
       " 'la',\n",
       " 'barrière',\n",
       " 'linguistique',\n",
       " 'et',\n",
       " 'par',\n",
       " 'une',\n",
       " 'réticence',\n",
       " 'de',\n",
       " 'la',\n",
       " 'patiente',\n",
       " 'à',\n",
       " 'fournir',\n",
       " 'des',\n",
       " 'informations',\n",
       " 'médicales',\n",
       " '.']"
      ]
     },
     "execution_count": 99,
     "metadata": {},
     "output_type": "execute_result"
    }
   ],
   "source": [
    "X_train = [x['token'] for x in train]\n",
    "print(f'nombre de phrases dans X_train: {len(X_train)}')\n",
    "X_train[0]"
   ]
  },
  {
   "cell_type": "code",
   "execution_count": 100,
   "id": "e0205ee1-6b61-4f55-becf-11e9af23193c",
   "metadata": {},
   "outputs": [
    {
     "name": "stdout",
     "output_type": "stream",
     "text": [
      "nombre de phrases dans Y_train: 13250\n"
     ]
    },
    {
     "data": {
      "text/plain": [
       "['O',\n",
       " 'O',\n",
       " 'O',\n",
       " 'O',\n",
       " 'O',\n",
       " 'O',\n",
       " 'O',\n",
       " 'O',\n",
       " 'O',\n",
       " 'O',\n",
       " 'O',\n",
       " 'O',\n",
       " 'O',\n",
       " 'O',\n",
       " 'O',\n",
       " 'O',\n",
       " 'O',\n",
       " 'O',\n",
       " 'O',\n",
       " 'O',\n",
       " 'O',\n",
       " 'O',\n",
       " 'O',\n",
       " 'O',\n",
       " 'O',\n",
       " 'O',\n",
       " 'O']"
      ]
     },
     "execution_count": 100,
     "metadata": {},
     "output_type": "execute_result"
    }
   ],
   "source": [
    "Y_train = [x['label'] for x in train]\n",
    "print(f'nombre de phrases dans Y_train: {len(Y_train)}')\n",
    "Y_train[0]"
   ]
  },
  {
   "cell_type": "code",
   "execution_count": 98,
   "id": "b3018be8-d4e1-4739-afff-4e8c514aca4b",
   "metadata": {},
   "outputs": [],
   "source": [
    "X_test = [x['token'] for x in test]\n",
    "Y_test = [x['label'] for x in test]"
   ]
  },
  {
   "cell_type": "code",
   "execution_count": 101,
   "id": "de975e22-19f1-4ea1-985a-73701b02f060",
   "metadata": {},
   "outputs": [],
   "source": [
    "cat_2_id = {'<UNK>': 0}\n",
    "for sent in Y_train:\n",
    "    for label in sent:\n",
    "        if label not in cat_2_id.keys():\n",
    "            cat_2_id[label] = len(cat_2_id)\n",
    "            \n",
    "id_2_cat = {v:k for k,v in cat_2_id.items()}\n",
    "            \n",
    "def preprocess_Y(Y, cat_to_id): \n",
    "    res = []\n",
    "    for sent in Y: \n",
    "        sent_res = []\n",
    "        for label in sent:\n",
    "        \n",
    "            if label not in cat_to_id.keys():\n",
    "                sent_res.append(cat_to_id['<UNK>'])\n",
    "            else:\n",
    "                sent_res.append(cat_to_id[label])\n",
    "        res.append(sent_res)\n",
    "    return res"
   ]
  },
  {
   "cell_type": "code",
   "execution_count": 102,
   "id": "7424f549-2eb5-450f-a87a-4c662d644fb6",
   "metadata": {},
   "outputs": [
    {
     "data": {
      "text/plain": [
       "{'<UNK>': 0,\n",
       " 'O': 1,\n",
       " 'disorder': 2,\n",
       " 'procedure': 3,\n",
       " 'labvalue': 4,\n",
       " 'drugs': 5,\n",
       " 'profession': 6,\n",
       " 'risk': 7,\n",
       " 'anatomy': 8}"
      ]
     },
     "execution_count": 102,
     "metadata": {},
     "output_type": "execute_result"
    }
   ],
   "source": [
    "cat_2_id"
   ]
  },
  {
   "cell_type": "code",
   "execution_count": 103,
   "id": "f6742c12-6390-4c16-a99b-095607eb3941",
   "metadata": {},
   "outputs": [
    {
     "data": {
      "text/plain": [
       "{0: '<UNK>',\n",
       " 1: 'O',\n",
       " 2: 'disorder',\n",
       " 3: 'procedure',\n",
       " 4: 'labvalue',\n",
       " 5: 'drugs',\n",
       " 6: 'profession',\n",
       " 7: 'risk',\n",
       " 8: 'anatomy'}"
      ]
     },
     "execution_count": 103,
     "metadata": {},
     "output_type": "execute_result"
    }
   ],
   "source": [
    "id_2_cat"
   ]
  },
  {
   "cell_type": "code",
   "execution_count": 105,
   "id": "6e67627f-b9cd-45da-8ace-9aac5e33560b",
   "metadata": {},
   "outputs": [
    {
     "data": {
      "text/plain": [
       "9"
      ]
     },
     "execution_count": 105,
     "metadata": {},
     "output_type": "execute_result"
    }
   ],
   "source": [
    "cat_vocab = len(cat_2_id)\n",
    "cat_vocab"
   ]
  },
  {
   "cell_type": "code",
   "execution_count": 106,
   "id": "e17d36e8-a79a-419b-ad77-b51a513d6d6f",
   "metadata": {},
   "outputs": [],
   "source": [
    "Y_train = preprocess_Y(Y_train, cat_2_id)\n",
    "Y_test = preprocess_Y(Y_test, cat_2_id)\n",
    "\n"
   ]
  },
  {
   "cell_type": "code",
   "execution_count": 48,
   "id": "47b1b91e-31cf-4683-88e6-6482aef02539",
   "metadata": {},
   "outputs": [],
   "source": [
    "tokenizer = tf.keras.preprocessing.text.Tokenizer()"
   ]
  },
  {
   "cell_type": "code",
   "execution_count": 49,
   "id": "2b973673-288a-47e5-aee7-1fa98692bc6f",
   "metadata": {},
   "outputs": [],
   "source": [
    "tokenizer.fit_on_texts(X_train)"
   ]
  },
  {
   "cell_type": "code",
   "execution_count": 91,
   "id": "a0f2b91a-6a7f-49e2-a44c-da3a578fc866",
   "metadata": {},
   "outputs": [
    {
     "data": {
      "text/plain": [
       "22456"
      ]
     },
     "execution_count": 91,
     "metadata": {},
     "output_type": "execute_result"
    }
   ],
   "source": [
    "vocab = len(tokenizer.word_index)\n",
    "vocab"
   ]
  },
  {
   "cell_type": "code",
   "execution_count": 108,
   "id": "e3a307a5-b9f1-4196-bc51-7f139a88f3b2",
   "metadata": {},
   "outputs": [],
   "source": [
    "X_train_seq = tokenizer.texts_to_sequences(X_train)\n",
    "X_test_seq = tokenizer.texts_to_sequences(X_test)"
   ]
  },
  {
   "cell_type": "code",
   "execution_count": 109,
   "id": "24e07b1d-1247-41aa-ba46-e99dddbf6317",
   "metadata": {},
   "outputs": [],
   "source": [
    "max_len_95 = round(np.quantile([len(x) for x in X_train_seq], .95))"
   ]
  },
  {
   "cell_type": "code",
   "execution_count": 110,
   "id": "48052b5e-ed7b-47a9-97de-2d25053410cf",
   "metadata": {},
   "outputs": [],
   "source": [
    "X_train_seq_pad = tf.keras.preprocessing.sequence.pad_sequences(X_train_seq, maxlen = max_len_95, \n",
    "                                                               truncating = \"post\")\n",
    "Y_train_seq_pad = tf.keras.preprocessing.sequence.pad_sequences(Y_train, maxlen = max_len_95, \n",
    "                                                               truncating = \"post\")\n",
    "\n",
    "X_test_seq_pad = tf.keras.preprocessing.sequence.pad_sequences(X_test_seq, maxlen = max_len_95, \n",
    "                                                               truncating = \"post\")\n",
    "Y_test_seq_pad = tf.keras.preprocessing.sequence.pad_sequences(Y_test, maxlen = max_len_95, \n",
    "                                                               truncating = \"post\")"
   ]
  },
  {
   "cell_type": "code",
   "execution_count": 111,
   "id": "1f310dce-1169-4d2b-8a3b-75fc451c7b5e",
   "metadata": {},
   "outputs": [
    {
     "data": {
      "text/plain": [
       "(13250, 58)"
      ]
     },
     "execution_count": 111,
     "metadata": {},
     "output_type": "execute_result"
    }
   ],
   "source": [
    "X_train_seq_pad.shape"
   ]
  },
  {
   "cell_type": "code",
   "execution_count": 112,
   "id": "62769231-a9c3-474a-bce2-cde714c7aad3",
   "metadata": {},
   "outputs": [
    {
     "data": {
      "text/plain": [
       "(13250, 58)"
      ]
     },
     "execution_count": 112,
     "metadata": {},
     "output_type": "execute_result"
    }
   ],
   "source": [
    "Y_train_seq_pad.shape"
   ]
  },
  {
   "cell_type": "code",
   "execution_count": 160,
   "id": "464bf7ae-20ba-42f7-bfbc-3fdb20c8dc83",
   "metadata": {},
   "outputs": [],
   "source": [
    "Y_train_seq_pad_cat = tf.keras.utils.to_categorical(Y_train_seq_pad)\n",
    "Y_test_seq_pad_cat = tf.keras.utils.to_categorical(Y_train_seq_pad)"
   ]
  },
  {
   "cell_type": "code",
   "execution_count": 161,
   "id": "9c63897f-072b-4fff-b7cf-eb48bb770279",
   "metadata": {},
   "outputs": [],
   "source": [
    "embed_dim = 128\n",
    "lstm_out = 128"
   ]
  },
  {
   "cell_type": "code",
   "execution_count": 171,
   "id": "65970156-3327-4207-bace-19727e67eab0",
   "metadata": {},
   "outputs": [],
   "source": [
    "model = tf.keras.models.Sequential()\n",
    "model.add(tf.keras.layers.Embedding(vocab+1, embed_dim,input_length = max_len_95))\n",
    "model.add(tf.keras.layers.Bidirectional(tf.keras.layers.LSTM(lstm_out, return_sequences = True)))\n",
    "model.add(tf.keras.layers.Dropout(0.2))\n",
    "model.add(tf.keras.layers.TimeDistributed(tf.keras.layers.Dense(cat_vocab,activation='softmax')))"
   ]
  },
  {
   "cell_type": "code",
   "execution_count": 172,
   "id": "7b3303cb-396b-44ee-b7df-e77c6587df05",
   "metadata": {},
   "outputs": [
    {
     "name": "stdout",
     "output_type": "stream",
     "text": [
      "Model: \"sequential_8\"\n",
      "_________________________________________________________________\n",
      " Layer (type)                Output Shape              Param #   \n",
      "=================================================================\n",
      " embedding_10 (Embedding)    (None, 58, 128)           2874496   \n",
      "                                                                 \n",
      " bidirectional_7 (Bidirectio  (None, 58, 256)          263168    \n",
      " nal)                                                            \n",
      "                                                                 \n",
      " dropout_7 (Dropout)         (None, 58, 256)           0         \n",
      "                                                                 \n",
      " time_distributed_7 (TimeDis  (None, 58, 9)            2313      \n",
      " tributed)                                                       \n",
      "                                                                 \n",
      "=================================================================\n",
      "Total params: 3,139,977\n",
      "Trainable params: 3,139,977\n",
      "Non-trainable params: 0\n",
      "_________________________________________________________________\n",
      "None\n"
     ]
    }
   ],
   "source": [
    "print(model.summary())"
   ]
  },
  {
   "cell_type": "code",
   "execution_count": 173,
   "id": "3220a70c-7680-4829-be50-e354fa396f09",
   "metadata": {},
   "outputs": [],
   "source": [
    "model.compile(loss = 'categorical_crossentropy', optimizer='adam',metrics = ['categorical_accuracy', \n",
    "                                                                             tf.keras.metrics.Precision(),\n",
    "                                                                            tf.keras.metrics.Recall()])\n"
   ]
  },
  {
   "cell_type": "code",
   "execution_count": 174,
   "id": "ff107158-70c8-4eb1-b557-1fffcb0b5eb5",
   "metadata": {},
   "outputs": [
    {
     "name": "stdout",
     "output_type": "stream",
     "text": [
      "Epoch 1/5\n",
      "663/663 [==============================] - 35s 50ms/step - loss: 0.2844 - categorical_accuracy: 0.9197 - precision_5: 0.9383 - recall: 0.9008 - val_loss: 0.2371 - val_categorical_accuracy: 0.9249 - val_precision_5: 0.9443 - val_recall: 0.9008\n",
      "Epoch 2/5\n",
      "663/663 [==============================] - 32s 48ms/step - loss: 0.1624 - categorical_accuracy: 0.9456 - precision_5: 0.9564 - recall: 0.9361 - val_loss: 0.2219 - val_categorical_accuracy: 0.9313 - val_precision_5: 0.9378 - val_recall: 0.9202\n",
      "Epoch 3/5\n",
      "663/663 [==============================] - 32s 49ms/step - loss: 0.1181 - categorical_accuracy: 0.9582 - precision_5: 0.9638 - recall: 0.9531 - val_loss: 0.2360 - val_categorical_accuracy: 0.9284 - val_precision_5: 0.9349 - val_recall: 0.9210\n",
      "Epoch 4/5\n",
      "663/663 [==============================] - 31s 47ms/step - loss: 0.0915 - categorical_accuracy: 0.9673 - precision_5: 0.9706 - recall: 0.9642 - val_loss: 0.2605 - val_categorical_accuracy: 0.9286 - val_precision_5: 0.9333 - val_recall: 0.9220\n",
      "Epoch 5/5\n",
      "663/663 [==============================] - 31s 47ms/step - loss: 0.0733 - categorical_accuracy: 0.9736 - precision_5: 0.9759 - recall: 0.9715 - val_loss: 0.2830 - val_categorical_accuracy: 0.9211 - val_precision_5: 0.9298 - val_recall: 0.9152\n"
     ]
    },
    {
     "data": {
      "text/plain": [
       "<keras.callbacks.History at 0x7ff4b2850b50>"
      ]
     },
     "execution_count": 174,
     "metadata": {},
     "output_type": "execute_result"
    }
   ],
   "source": [
    "model.fit(X_train_seq_pad, Y_train_seq_pad_cat, batch_size = 16, epochs = 5,validation_split=0.2)"
   ]
  },
  {
   "cell_type": "code",
   "execution_count": 175,
   "id": "75e6aa29-97d3-4b05-887c-065804f7541e",
   "metadata": {},
   "outputs": [],
   "source": [
    "test_pred = model.predict(X_test_seq_pad)\n",
    "test_pred = np.argmax(test_pred, axis= 2)"
   ]
  },
  {
   "cell_type": "code",
   "execution_count": 176,
   "id": "099d2de1-df4a-4ba1-89cd-52e66b0b8343",
   "metadata": {},
   "outputs": [
    {
     "name": "stdout",
     "output_type": "stream",
     "text": [
      "              precision    recall  f1-score   support\n",
      "\n",
      "    disorder       0.44      0.36      0.40      5803\n",
      "   procedure       0.46      0.27      0.34      4940\n",
      "    labvalue       0.47      0.35      0.40      2279\n",
      "       drugs       0.46      0.30      0.37       700\n",
      "  profession       0.26      0.15      0.19       245\n",
      "        risk       0.34      0.04      0.08       247\n",
      "     anatomy       0.00      0.00      0.00       127\n",
      "\n",
      "   micro avg       0.45      0.31      0.37     14341\n",
      "   macro avg       0.35      0.21      0.25     14341\n",
      "weighted avg       0.45      0.31      0.36     14341\n",
      "\n"
     ]
    }
   ],
   "source": [
    "labels = [k for k,v in id_2_cat.items() if v not in ['<UNK>', 'O']]\n",
    "target_names = [id_2_cat[x] for x in labels]\n",
    "\n",
    "test_pred.shape[0]\n",
    "\n",
    "print(classification_report(Y_test_seq_pad.reshape(test_pred.shape[0]*max_len_95), \n",
    "                            test_pred.reshape(test_pred.shape[0]*max_len_95),\n",
    "                            labels=labels,\n",
    "                            target_names= target_names,\n",
    "                           zero_division=0))"
   ]
  },
  {
   "cell_type": "code",
   "execution_count": 179,
   "id": "8dcce97d-706d-4fc0-860b-b0d703eef9ab",
   "metadata": {},
   "outputs": [
    {
     "name": "stdout",
     "output_type": "stream",
     "text": [
      "              precision    recall  f1-score   support\n",
      "\n",
      "    disorder       0.82      0.77      0.80     24066\n",
      "   procedure       0.86      0.66      0.75     18305\n",
      "    labvalue       0.82      0.80      0.81     10275\n",
      "       drugs       0.84      0.76      0.80      3273\n",
      "  profession       0.75      0.53      0.62      1183\n",
      "        risk       0.51      0.28      0.36       660\n",
      "     anatomy       0.24      0.38      0.29       482\n",
      "\n",
      "   micro avg       0.82      0.73      0.77     58244\n",
      "   macro avg       0.69      0.60      0.63     58244\n",
      "weighted avg       0.83      0.73      0.77     58244\n",
      "\n"
     ]
    }
   ],
   "source": [
    "train_pred = model.predict(X_train_seq_pad)\n",
    "train_pred = np.argmax(train_pred, axis= 2)\n",
    "\n",
    "\n",
    "\n",
    "print(classification_report(Y_train_seq_pad.reshape(train_pred.shape[0]*max_len_95), \n",
    "                            train_pred.reshape(train_pred.shape[0]*max_len_95),\n",
    "                            labels=labels,\n",
    "                            target_names= target_names,\n",
    "                           zero_division=0))"
   ]
  }
 ],
 "metadata": {
  "kernelspec": {
   "display_name": "Python 3 (ipykernel)",
   "language": "python",
   "name": "python3"
  },
  "language_info": {
   "codemirror_mode": {
    "name": "ipython",
    "version": 3
   },
   "file_extension": ".py",
   "mimetype": "text/x-python",
   "name": "python",
   "nbconvert_exporter": "python",
   "pygments_lexer": "ipython3",
   "version": "3.8.3"
  }
 },
 "nbformat": 4,
 "nbformat_minor": 5
}
